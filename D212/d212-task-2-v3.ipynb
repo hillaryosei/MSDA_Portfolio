{
 "cells": [
  {
   "cell_type": "code",
   "execution_count": 1,
   "id": "207edcc6-d59f-4af8-9866-5c4eb00cd831",
   "metadata": {},
   "outputs": [],
   "source": [
    "# Read CSV\n",
    "import pandas as pd\n",
    "df = pd.read_csv(\"medical_clean.csv\")"
   ]
  },
  {
   "cell_type": "code",
   "execution_count": 2,
   "id": "b08d1e1c-45df-4d1a-896a-d6dda67aa40d",
   "metadata": {},
   "outputs": [
    {
     "name": "stdout",
     "output_type": "stream",
     "text": [
      "<class 'pandas.core.frame.DataFrame'>\n",
      "RangeIndex: 10000 entries, 0 to 9999\n",
      "Data columns (total 50 columns):\n",
      " #   Column              Non-Null Count  Dtype  \n",
      "---  ------              --------------  -----  \n",
      " 0   CaseOrder           10000 non-null  int64  \n",
      " 1   Customer_id         10000 non-null  object \n",
      " 2   Interaction         10000 non-null  object \n",
      " 3   UID                 10000 non-null  object \n",
      " 4   City                10000 non-null  object \n",
      " 5   State               10000 non-null  object \n",
      " 6   County              10000 non-null  object \n",
      " 7   Zip                 10000 non-null  int64  \n",
      " 8   Lat                 10000 non-null  float64\n",
      " 9   Lng                 10000 non-null  float64\n",
      " 10  Population          10000 non-null  int64  \n",
      " 11  Area                10000 non-null  object \n",
      " 12  TimeZone            10000 non-null  object \n",
      " 13  Job                 10000 non-null  object \n",
      " 14  Children            10000 non-null  int64  \n",
      " 15  Age                 10000 non-null  int64  \n",
      " 16  Income              10000 non-null  float64\n",
      " 17  Marital             10000 non-null  object \n",
      " 18  Gender              10000 non-null  object \n",
      " 19  ReAdmis             10000 non-null  object \n",
      " 20  VitD_levels         10000 non-null  float64\n",
      " 21  Doc_visits          10000 non-null  int64  \n",
      " 22  Full_meals_eaten    10000 non-null  int64  \n",
      " 23  vitD_supp           10000 non-null  int64  \n",
      " 24  Soft_drink          10000 non-null  object \n",
      " 25  Initial_admin       10000 non-null  object \n",
      " 26  HighBlood           10000 non-null  object \n",
      " 27  Stroke              10000 non-null  object \n",
      " 28  Complication_risk   10000 non-null  object \n",
      " 29  Overweight          10000 non-null  object \n",
      " 30  Arthritis           10000 non-null  object \n",
      " 31  Diabetes            10000 non-null  object \n",
      " 32  Hyperlipidemia      10000 non-null  object \n",
      " 33  BackPain            10000 non-null  object \n",
      " 34  Anxiety             10000 non-null  object \n",
      " 35  Allergic_rhinitis   10000 non-null  object \n",
      " 36  Reflux_esophagitis  10000 non-null  object \n",
      " 37  Asthma              10000 non-null  object \n",
      " 38  Services            10000 non-null  object \n",
      " 39  Initial_days        10000 non-null  float64\n",
      " 40  TotalCharge         10000 non-null  float64\n",
      " 41  Additional_charges  10000 non-null  float64\n",
      " 42  Item1               10000 non-null  int64  \n",
      " 43  Item2               10000 non-null  int64  \n",
      " 44  Item3               10000 non-null  int64  \n",
      " 45  Item4               10000 non-null  int64  \n",
      " 46  Item5               10000 non-null  int64  \n",
      " 47  Item6               10000 non-null  int64  \n",
      " 48  Item7               10000 non-null  int64  \n",
      " 49  Item8               10000 non-null  int64  \n",
      "dtypes: float64(7), int64(16), object(27)\n",
      "memory usage: 3.8+ MB\n"
     ]
    }
   ],
   "source": [
    "# Get profile of data\n",
    "df.info()"
   ]
  },
  {
   "cell_type": "code",
   "execution_count": 3,
   "id": "2ada9257-0ade-468c-918e-2a09379dcee8",
   "metadata": {},
   "outputs": [
    {
     "data": {
      "text/plain": [
       "0       False\n",
       "1       False\n",
       "2       False\n",
       "3       False\n",
       "4       False\n",
       "        ...  \n",
       "9995    False\n",
       "9996    False\n",
       "9997    False\n",
       "9998    False\n",
       "9999    False\n",
       "Length: 10000, dtype: bool"
      ]
     },
     "execution_count": 3,
     "metadata": {},
     "output_type": "execute_result"
    }
   ],
   "source": [
    "# CHeck for duplicates\n",
    "df.duplicated()"
   ]
  },
  {
   "cell_type": "code",
   "execution_count": 4,
   "id": "c89aedb2-355c-4c35-98ee-efefed032766",
   "metadata": {},
   "outputs": [
    {
     "data": {
      "text/plain": [
       "CaseOrder             0\n",
       "Customer_id           0\n",
       "Interaction           0\n",
       "UID                   0\n",
       "City                  0\n",
       "State                 0\n",
       "County                0\n",
       "Zip                   0\n",
       "Lat                   0\n",
       "Lng                   0\n",
       "Population            0\n",
       "Area                  0\n",
       "TimeZone              0\n",
       "Job                   0\n",
       "Children              0\n",
       "Age                   0\n",
       "Income                0\n",
       "Marital               0\n",
       "Gender                0\n",
       "ReAdmis               0\n",
       "VitD_levels           0\n",
       "Doc_visits            0\n",
       "Full_meals_eaten      0\n",
       "vitD_supp             0\n",
       "Soft_drink            0\n",
       "Initial_admin         0\n",
       "HighBlood             0\n",
       "Stroke                0\n",
       "Complication_risk     0\n",
       "Overweight            0\n",
       "Arthritis             0\n",
       "Diabetes              0\n",
       "Hyperlipidemia        0\n",
       "BackPain              0\n",
       "Anxiety               0\n",
       "Allergic_rhinitis     0\n",
       "Reflux_esophagitis    0\n",
       "Asthma                0\n",
       "Services              0\n",
       "Initial_days          0\n",
       "TotalCharge           0\n",
       "Additional_charges    0\n",
       "Item1                 0\n",
       "Item2                 0\n",
       "Item3                 0\n",
       "Item4                 0\n",
       "Item5                 0\n",
       "Item6                 0\n",
       "Item7                 0\n",
       "Item8                 0\n",
       "dtype: int64"
      ]
     },
     "execution_count": 4,
     "metadata": {},
     "output_type": "execute_result"
    }
   ],
   "source": [
    "# CHeck for mising values\n",
    "df.isnull().sum()"
   ]
  },
  {
   "cell_type": "code",
   "execution_count": 5,
   "id": "97328aba-e355-4a7c-8b24-907178c521d3",
   "metadata": {},
   "outputs": [],
   "source": [
    "# Remove non-continuous variables\n",
    "df = df.drop(columns=[\n",
    "    'CaseOrder', 'Customer_id', 'Interaction', 'UID', 'City', 'State', 'County',\n",
    "    'Zip', 'Lat', 'Lng', 'Area', 'TimeZone', 'Job', 'Marital', 'Gender', 'ReAdmis',\n",
    "    'Soft_drink', 'Initial_admin','HighBlood', 'Stroke', 'Complication_risk', \n",
    "    'Overweight', 'Arthritis','Diabetes', 'Hyperlipidemia', 'BackPain', 'Anxiety', \n",
    "    'Allergic_rhinitis','Reflux_esophagitis', 'Asthma', 'Services', 'Item1', 'Item2', \n",
    "    'Item3', 'Item4', 'Item5', 'Item6', 'Item7', 'Item8'\n",
    "])"
   ]
  },
  {
   "cell_type": "code",
   "execution_count": 6,
   "id": "3d02a473-5b13-4408-8849-dfd2d8dc41c1",
   "metadata": {},
   "outputs": [
    {
     "name": "stdout",
     "output_type": "stream",
     "text": [
      "<class 'pandas.core.frame.DataFrame'>\n",
      "RangeIndex: 10000 entries, 0 to 9999\n",
      "Data columns (total 11 columns):\n",
      " #   Column              Non-Null Count  Dtype  \n",
      "---  ------              --------------  -----  \n",
      " 0   Population          10000 non-null  int64  \n",
      " 1   Children            10000 non-null  int64  \n",
      " 2   Age                 10000 non-null  int64  \n",
      " 3   Income              10000 non-null  float64\n",
      " 4   VitD_levels         10000 non-null  float64\n",
      " 5   Doc_visits          10000 non-null  int64  \n",
      " 6   Full_meals_eaten    10000 non-null  int64  \n",
      " 7   vitD_supp           10000 non-null  int64  \n",
      " 8   Initial_days        10000 non-null  float64\n",
      " 9   TotalCharge         10000 non-null  float64\n",
      " 10  Additional_charges  10000 non-null  float64\n",
      "dtypes: float64(5), int64(6)\n",
      "memory usage: 859.5 KB\n"
     ]
    }
   ],
   "source": [
    "# Recheck data profile\n",
    "df.info()"
   ]
  },
  {
   "cell_type": "code",
   "execution_count": 7,
   "id": "006b0136-cf7b-4f6e-a1f1-833e818e0b4e",
   "metadata": {},
   "outputs": [
    {
     "data": {
      "text/html": [
       "<div>\n",
       "<style scoped>\n",
       "    .dataframe tbody tr th:only-of-type {\n",
       "        vertical-align: middle;\n",
       "    }\n",
       "\n",
       "    .dataframe tbody tr th {\n",
       "        vertical-align: top;\n",
       "    }\n",
       "\n",
       "    .dataframe thead th {\n",
       "        text-align: right;\n",
       "    }\n",
       "</style>\n",
       "<table border=\"1\" class=\"dataframe\">\n",
       "  <thead>\n",
       "    <tr style=\"text-align: right;\">\n",
       "      <th></th>\n",
       "      <th>Population</th>\n",
       "      <th>Children</th>\n",
       "      <th>Age</th>\n",
       "      <th>Income</th>\n",
       "      <th>VitD_levels</th>\n",
       "      <th>Doc_visits</th>\n",
       "      <th>Full_meals_eaten</th>\n",
       "      <th>vitD_supp</th>\n",
       "      <th>Initial_days</th>\n",
       "      <th>TotalCharge</th>\n",
       "      <th>Additional_charges</th>\n",
       "    </tr>\n",
       "  </thead>\n",
       "  <tbody>\n",
       "    <tr>\n",
       "      <th>0</th>\n",
       "      <td>-0.473168</td>\n",
       "      <td>-0.507129</td>\n",
       "      <td>-0.024795</td>\n",
       "      <td>1.615914</td>\n",
       "      <td>0.583603</td>\n",
       "      <td>0.944647</td>\n",
       "      <td>-0.993387</td>\n",
       "      <td>-0.634713</td>\n",
       "      <td>-0.907310</td>\n",
       "      <td>-0.727185</td>\n",
       "      <td>0.765005</td>\n",
       "    </tr>\n",
       "    <tr>\n",
       "      <th>1</th>\n",
       "      <td>0.090242</td>\n",
       "      <td>0.417277</td>\n",
       "      <td>-0.121706</td>\n",
       "      <td>0.221443</td>\n",
       "      <td>0.483901</td>\n",
       "      <td>-0.967981</td>\n",
       "      <td>0.990609</td>\n",
       "      <td>0.956445</td>\n",
       "      <td>-0.734595</td>\n",
       "      <td>-0.513228</td>\n",
       "      <td>0.715114</td>\n",
       "    </tr>\n",
       "    <tr>\n",
       "      <th>2</th>\n",
       "      <td>0.482983</td>\n",
       "      <td>0.417277</td>\n",
       "      <td>-0.024795</td>\n",
       "      <td>-0.915870</td>\n",
       "      <td>0.046227</td>\n",
       "      <td>-0.967981</td>\n",
       "      <td>-0.001389</td>\n",
       "      <td>-0.634713</td>\n",
       "      <td>-1.128292</td>\n",
       "      <td>-1.319983</td>\n",
       "      <td>0.698635</td>\n",
       "    </tr>\n",
       "    <tr>\n",
       "      <th>3</th>\n",
       "      <td>-0.526393</td>\n",
       "      <td>-0.969332</td>\n",
       "      <td>1.186592</td>\n",
       "      <td>-0.026263</td>\n",
       "      <td>-0.687811</td>\n",
       "      <td>-0.967981</td>\n",
       "      <td>-0.001389</td>\n",
       "      <td>-0.634713</td>\n",
       "      <td>-1.244503</td>\n",
       "      <td>-1.460517</td>\n",
       "      <td>0.009004</td>\n",
       "    </tr>\n",
       "    <tr>\n",
       "      <th>4</th>\n",
       "      <td>-0.315586</td>\n",
       "      <td>-0.507129</td>\n",
       "      <td>-1.526914</td>\n",
       "      <td>-1.377325</td>\n",
       "      <td>-0.260366</td>\n",
       "      <td>-0.011667</td>\n",
       "      <td>-0.993387</td>\n",
       "      <td>2.547602</td>\n",
       "      <td>-1.261991</td>\n",
       "      <td>-1.467285</td>\n",
       "      <td>-1.408991</td>\n",
       "    </tr>\n",
       "  </tbody>\n",
       "</table>\n",
       "</div>"
      ],
      "text/plain": [
       "   Population  Children       Age    Income  VitD_levels  Doc_visits  \\\n",
       "0   -0.473168 -0.507129 -0.024795  1.615914     0.583603    0.944647   \n",
       "1    0.090242  0.417277 -0.121706  0.221443     0.483901   -0.967981   \n",
       "2    0.482983  0.417277 -0.024795 -0.915870     0.046227   -0.967981   \n",
       "3   -0.526393 -0.969332  1.186592 -0.026263    -0.687811   -0.967981   \n",
       "4   -0.315586 -0.507129 -1.526914 -1.377325    -0.260366   -0.011667   \n",
       "\n",
       "   Full_meals_eaten  vitD_supp  Initial_days  TotalCharge  Additional_charges  \n",
       "0         -0.993387  -0.634713     -0.907310    -0.727185            0.765005  \n",
       "1          0.990609   0.956445     -0.734595    -0.513228            0.715114  \n",
       "2         -0.001389  -0.634713     -1.128292    -1.319983            0.698635  \n",
       "3         -0.001389  -0.634713     -1.244503    -1.460517            0.009004  \n",
       "4         -0.993387   2.547602     -1.261991    -1.467285           -1.408991  "
      ]
     },
     "execution_count": 7,
     "metadata": {},
     "output_type": "execute_result"
    }
   ],
   "source": [
    "# Use Standard Scaler to standardize data\n",
    "from sklearn.preprocessing import StandardScaler\n",
    "sc = StandardScaler()\n",
    "sc.fit(df)\n",
    "scaled_data_array = sc.transform(df)\n",
    "scaled_data = pd.DataFrame(scaled_data_array, columns = df.columns)\n",
    "scaled_data.head()"
   ]
  },
  {
   "cell_type": "code",
   "execution_count": 8,
   "id": "1a8a15ea-6961-4a1a-a362-2d19c972d806",
   "metadata": {},
   "outputs": [],
   "source": [
    "# Extract new dataset\n",
    "scaled_data.to_csv(\"D212_scaled_task2.csv\")"
   ]
  },
  {
   "cell_type": "code",
   "execution_count": 9,
   "id": "7de6accb-81bf-4832-9b85-f5f164c56baa",
   "metadata": {},
   "outputs": [
    {
     "name": "stdout",
     "output_type": "stream",
     "text": [
      "Number of PCA components: 11\n",
      "[[ 2.44511743e-02  3.45195738e-02  8.48720083e-02 -2.01838881e-02\n",
      "  -2.03929958e-03 -6.88879623e-03 -2.07025898e-02  2.53662935e-02\n",
      "   7.00221817e-01  7.01357789e-01  8.52225996e-02]\n",
      " [-2.83535470e-02  1.74102130e-02  7.00761699e-01 -1.90464369e-02\n",
      "   2.04374565e-02  1.54471454e-02  3.21460471e-02  1.45223075e-02\n",
      "  -9.02354616e-02 -7.96433661e-02  7.00768979e-01]\n",
      " [-4.21855330e-01  9.67308062e-02 -2.35236102e-02 -3.25252285e-01\n",
      "   3.59912973e-01 -2.13143722e-01  6.03613282e-01 -4.07015454e-01\n",
      "   1.84109047e-02  1.96096184e-02 -2.52419557e-02]\n",
      " [ 3.70208759e-01  3.48999558e-01 -1.71588780e-02  1.96995274e-01\n",
      "   5.72299909e-01  5.93921973e-01  1.29857514e-01 -6.95211909e-02\n",
      "  -5.48904159e-03 -2.23042021e-03 -6.43803931e-03]\n",
      " [-2.35895710e-01  5.18806655e-01  6.68861022e-03  6.58377615e-01\n",
      "  -3.28572558e-01 -1.06641745e-01  3.04058833e-02 -3.48283329e-01\n",
      "   6.56530818e-03  4.80109808e-03  7.91895381e-03]\n",
      " [ 3.49304908e-01  6.26415103e-01 -3.29358294e-03 -3.22788071e-01\n",
      "   1.33582884e-01 -5.45545433e-01 -2.28782705e-01  1.06249605e-01\n",
      "  -3.43727222e-02 -3.33065197e-02  1.30182784e-03]\n",
      " [-4.79600344e-01  2.79714581e-01 -2.45292761e-02  8.18580916e-02\n",
      "   9.29024806e-02  7.28432675e-02  1.72001750e-01  7.99984712e-01\n",
      "  -5.66356409e-03 -5.32796126e-03 -2.97188976e-02]\n",
      " [ 2.22539551e-01 -3.52458633e-01  8.83442063e-03  5.54280623e-01\n",
      "   4.14384153e-01 -5.35508626e-01  1.84048574e-01  1.61924229e-01\n",
      "   9.23350556e-03  9.05713440e-03  1.41303587e-02]\n",
      " [ 4.75576302e-01  5.75340729e-02 -1.45543473e-02 -5.51896360e-02\n",
      "  -4.86165172e-01  2.16847766e-02  7.07447655e-01  1.72815164e-01\n",
      "  -4.63971317e-03 -2.11014347e-03  7.69657822e-03]\n",
      " [ 1.43888892e-02  3.62783837e-03  7.06573443e-01  2.25925551e-03\n",
      "  -2.32566638e-03  1.01284987e-03  1.08030429e-02  4.33065373e-04\n",
      "   3.14681168e-02 -3.14432208e-02 -7.05993214e-01]\n",
      " [-9.30311996e-04 -9.22146167e-04  2.62453810e-02  1.29555939e-03\n",
      "  -1.49155181e-03 -1.09867175e-03 -1.62892519e-03 -5.98647957e-04\n",
      "  -7.06274867e-01  7.06490447e-01 -3.67205953e-02]]\n"
     ]
    }
   ],
   "source": [
    "# Start PCA\n",
    "from sklearn.decomposition import PCA\n",
    "\n",
    "pca = PCA()\n",
    "pca.fit(scaled_data)\n",
    "components = pca.components_\n",
    "num_components = pca.n_components_\n",
    "print(\"Number of PCA components:\", num_components)\n",
    "print(components)"
   ]
  },
  {
   "cell_type": "code",
   "execution_count": 10,
   "id": "f606ba59-650e-4ccf-acf5-b5c9e7a35cf8",
   "metadata": {},
   "outputs": [
    {
     "name": "stdout",
     "output_type": "stream",
     "text": [
      "                         PC1       PC2       PC3       PC4       PC5  \\\n",
      "Population          0.024451 -0.028354 -0.421855  0.370209 -0.235896   \n",
      "Children            0.034520  0.017410  0.096731  0.349000  0.518807   \n",
      "Age                 0.084872  0.700762 -0.023524 -0.017159  0.006689   \n",
      "Income             -0.020184 -0.019046 -0.325252  0.196995  0.658378   \n",
      "VitD_levels        -0.002039  0.020437  0.359913  0.572300 -0.328573   \n",
      "Doc_visits         -0.006889  0.015447 -0.213144  0.593922 -0.106642   \n",
      "Full_meals_eaten   -0.020703  0.032146  0.603613  0.129858  0.030406   \n",
      "vitD_supp           0.025366  0.014522 -0.407015 -0.069521 -0.348283   \n",
      "Initial_days        0.700222 -0.090235  0.018411 -0.005489  0.006565   \n",
      "TotalCharge         0.701358 -0.079643  0.019610 -0.002230  0.004801   \n",
      "Additional_charges  0.085223  0.700769 -0.025242 -0.006438  0.007919   \n",
      "\n",
      "                         PC6       PC7       PC8       PC9      PC10      PC11  \n",
      "Population          0.349305 -0.479600  0.222540  0.475576  0.014389 -0.000930  \n",
      "Children            0.626415  0.279715 -0.352459  0.057534  0.003628 -0.000922  \n",
      "Age                -0.003294 -0.024529  0.008834 -0.014554  0.706573  0.026245  \n",
      "Income             -0.322788  0.081858  0.554281 -0.055190  0.002259  0.001296  \n",
      "VitD_levels         0.133583  0.092902  0.414384 -0.486165 -0.002326 -0.001492  \n",
      "Doc_visits         -0.545545  0.072843 -0.535509  0.021685  0.001013 -0.001099  \n",
      "Full_meals_eaten   -0.228783  0.172002  0.184049  0.707448  0.010803 -0.001629  \n",
      "vitD_supp           0.106250  0.799985  0.161924  0.172815  0.000433 -0.000599  \n",
      "Initial_days       -0.034373 -0.005664  0.009234 -0.004640  0.031468 -0.706275  \n",
      "TotalCharge        -0.033307 -0.005328  0.009057 -0.002110 -0.031443  0.706490  \n",
      "Additional_charges  0.001302 -0.029719  0.014130  0.007697 -0.705993 -0.036721  \n"
     ]
    }
   ],
   "source": [
    "# Based on code from Middleton (n.d., slide 11, \"Welcome To Getting Started With Principal Component Analysis (PCA)\")\n",
    "medical_features =  scaled_data[['Population', 'Children','Age', 'Income', 'VitD_levels', \n",
    "'Doc_visits','Full_meals_eaten', 'vitD_supp', 'Initial_days', 'TotalCharge', 'Additional_charges']]\n",
    "\n",
    "# Normalize data using standardization (mean normalization)\n",
    "# Based on code from Middleton (n.d., slide 12, \"Welcome To Getting Started With Principal Component Analysis (PCA)\")\n",
    "normalized_medical_features = (medical_features-medical_features.mean())/medical_features.std()\n",
    "# Based on code from Middleton (n.d., slide 13, \"Welcome To Getting Started With Principal Component Analysis (PCA)\")\n",
    "medical_features_pca = pd.DataFrame(pca.transform(normalized_medical_features),columns=\n",
    "['PC1','PC2','PC3','P4', 'P5', 'P6', 'P7', 'P8', 'P9', 'P10', 'P11'])\n",
    "\n",
    "# Get PCA loadings\n",
    "# Based on code from Middleton (n.d., slide 15, \"Welcome To Getting Started With Principal Component Analysis (PCA)\")\n",
    "loadings = pd.DataFrame(pca.components_.T, columns=['PC1','PC2','PC3','PC4', 'PC5',\n",
    "'PC6', 'PC7', 'PC8', 'PC9', 'PC10', 'PC11'], index=normalized_medical_features.columns)\n",
    "print(loadings)"
   ]
  },
  {
   "cell_type": "code",
   "execution_count": 11,
   "id": "b561bc39-7700-43c0-986a-4c083cc4d975",
   "metadata": {},
   "outputs": [
    {
     "data": {
      "image/png": "[encoded data removed]",
      "text/plain": [
       "<Figure size 640x480 with 1 Axes>"
      ]
     },
     "metadata": {},
     "output_type": "display_data"
    },
    {
     "name": "stdout",
     "output_type": "stream",
     "text": [
      "Eigenvector 1: [ 0.02445117  0.03451957  0.08487201 -0.02018389 -0.0020393  -0.0068888\n",
      " -0.02070259  0.02536629  0.70022182  0.70135779  0.0852226 ]\n",
      "Eigenvector 2: [-0.02835355  0.01741021  0.7007617  -0.01904644  0.02043746  0.01544715\n",
      "  0.03214605  0.01452231 -0.09023546 -0.07964337  0.70076898]\n",
      "Eigenvector 3: [-0.42185533  0.09673081 -0.02352361 -0.32525229  0.35991297 -0.21314372\n",
      "  0.60361328 -0.40701545  0.0184109   0.01960962 -0.02524196]\n",
      "Eigenvector 4: [ 0.37020876  0.34899956 -0.01715888  0.19699527  0.57229991  0.59392197\n",
      "  0.12985751 -0.06952119 -0.00548904 -0.00223042 -0.00643804]\n",
      "Eigenvector 5: [-0.23589571  0.51880666  0.00668861  0.65837762 -0.32857256 -0.10664174\n",
      "  0.03040588 -0.34828333  0.00656531  0.0048011   0.00791895]\n",
      "Eigenvector 6: [ 0.34930491  0.6264151  -0.00329358 -0.32278807  0.13358288 -0.54554543\n",
      " -0.2287827   0.1062496  -0.03437272 -0.03330652  0.00130183]\n",
      "Eigenvector 7: [-0.47960034  0.27971458 -0.02452928  0.08185809  0.09290248  0.07284327\n",
      "  0.17200175  0.79998471 -0.00566356 -0.00532796 -0.0297189 ]\n",
      "Eigenvector 8: [ 0.22253955 -0.35245863  0.00883442  0.55428062  0.41438415 -0.53550863\n",
      "  0.18404857  0.16192423  0.00923351  0.00905713  0.01413036]\n",
      "Eigenvector 9: [ 0.4755763   0.05753407 -0.01455435 -0.05518964 -0.48616517  0.02168478\n",
      "  0.70744765  0.17281516 -0.00463971 -0.00211014  0.00769658]\n",
      "Eigenvector 10: [ 1.43888892e-02  3.62783837e-03  7.06573443e-01  2.25925551e-03\n",
      " -2.32566638e-03  1.01284987e-03  1.08030429e-02  4.33065373e-04\n",
      "  3.14681168e-02 -3.14432208e-02 -7.05993214e-01]\n",
      "Eigenvector 11: [-9.30311996e-04 -9.22146167e-04  2.62453810e-02  1.29555939e-03\n",
      " -1.49155181e-03 -1.09867175e-03 -1.62892519e-03 -5.98647957e-04\n",
      " -7.06274867e-01  7.06490447e-01 -3.67205953e-02]\n"
     ]
    }
   ],
   "source": [
    "import numpy as np\n",
    "import matplotlib.pyplot as plt\n",
    "# Select PCs\n",
    "# Calculate covariance \n",
    "# Based on code from Middleton (n.d., slide 17, \"Welcome To Getting Started With Principal Component Analysis (PCA)\")\n",
    "cov_matrix = np.dot(normalized_medical_features.T, normalized_medical_features) / medical_features.shape[0]\n",
    "\n",
    "# Calculate Vectors\n",
    "# Based on code from Middleton (n.d., slide 17, \"Welcome To Getting Started With Principal Component Analysis (PCA)\")\n",
    "eigenvalues = [np.dot(eigenvector.T, np.dot(cov_matrix, eigenvector)) for eigenvector in pca.components_]\n",
    "\n",
    "# Create scree plot\n",
    "# Based on code from Middleton (n.d., slide 17, \"Welcome To Getting Started With Principal Component Analysis (PCA)\")\n",
    "plt.plot(range(1, len(eigenvalues) + 1), eigenvalues)\n",
    "plt.xlabel('number of components')\n",
    "plt.ylabel('eigenvalue')\n",
    "plt.axhline(y=1, color=\"red\")\n",
    "plt.show()\n",
    "\n",
    "# Display eigenvectors\n",
    "for i, eigenvector in enumerate(pca.components_):\n",
    "    print(f\"Eigenvector {i+1}: {eigenvector}\")\n"
   ]
  },
  {
   "cell_type": "code",
   "execution_count": 12,
   "id": "fab883d1-8575-4522-a835-d57dae3849ee",
   "metadata": {},
   "outputs": [
    {
     "name": "stdout",
     "output_type": "stream",
     "text": [
      "Number of Principal Components to Retain: 5\n"
     ]
    }
   ],
   "source": [
    "# Sort eigenvalues in descending order\n",
    "eigenvalues_sorted = np.sort(eigenvalues)[::-1]\n",
    "\n",
    "# Calculate the number of eigenvalues greater than 1\n",
    "eigen_components = np.sum(eigenvalues_sorted > 1)\n",
    "\n",
    "print(f\"Number of Principal Components to Retain: {eigen_components}\")"
   ]
  },
  {
   "cell_type": "code",
   "execution_count": 13,
   "id": "4024f4a7-7b5c-4412-be93-253f69a9358b",
   "metadata": {},
   "outputs": [
    {
     "name": "stdout",
     "output_type": "stream",
     "text": [
      "Principal Component 1: 18.14%\n",
      "Principal Component 2: 15.59%\n",
      "Principal Component 3: 9.55%\n",
      "Principal Component 4: 9.27%\n",
      "Principal Component 5: 9.15%\n"
     ]
    }
   ],
   "source": [
    "# Get variance per retained principal component\n",
    "\n",
    "retained_pc = PCA(n_components=5, random_state=42)\n",
    "retained_pc.fit(scaled_data)\n",
    "variance_pca = retained_pc.transform(scaled_data)\n",
    "\n",
    "captured_variance = retained_pc.explained_variance_ratio_ * 100\n",
    "\n",
    "# Print the captured variance for each component\n",
    "for i, var in enumerate(captured_variance):\n",
    "    print(f\"Principal Component {i+1}: {var:.2f}%\")\n"
   ]
  },
  {
   "cell_type": "code",
   "execution_count": 14,
   "id": "c6f69a88-f68a-4d7e-b44f-31f9675ea858",
   "metadata": {},
   "outputs": [
    {
     "name": "stdout",
     "output_type": "stream",
     "text": [
      "Total variance explained by top 5 components: 61.70%\n",
      "\n",
      "Cumulative variance up to 1st principal component = 18.136305395664262\n",
      "Cumulative variance up to 2nd principal component = 33.729456264420136\n",
      "Cumulative variance up to 3rd principal component = 43.28239229936512\n",
      "Cumulative variance up to 4th principal component = 52.54934396764624\n",
      "Cumulative variance up to 5th principal component = 61.698580376651634\n"
     ]
    }
   ],
   "source": [
    "# Get total variance\n",
    "cumulative_variance = np.cumsum(captured_variance[:5])\n",
    "print(f\"Total variance explained by top 5 components: {cumulative_variance[-1]:.2f}%\\n\")\n",
    "\n",
    "print(\"Cumulative variance up to 1st principal component =\", cumulative_variance[0])\n",
    "print(\"Cumulative variance up to 2nd principal component =\", cumulative_variance[1])\n",
    "print(\"Cumulative variance up to 3rd principal component =\", cumulative_variance[2])\n",
    "print(\"Cumulative variance up to 4th principal component =\", cumulative_variance[3])\n",
    "print(\"Cumulative variance up to 5th principal component =\", cumulative_variance[4])"
   ]
  }
 ],
 "metadata": {
  "kernelspec": {
   "display_name": "Python 3 (ipykernel)",
   "language": "python",
   "name": "python3"
  },
  "language_info": {
   "codemirror_mode": {
    "name": "ipython",
    "version": 3
   },
   "file_extension": ".py",
   "mimetype": "text/x-python",
   "name": "python",
   "nbconvert_exporter": "python",
   "pygments_lexer": "ipython3",
   "version": "3.11.7"
  }
 },
 "nbformat": 4,
 "nbformat_minor": 5
}
